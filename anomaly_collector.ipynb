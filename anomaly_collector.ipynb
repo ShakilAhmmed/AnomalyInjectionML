{
 "cells": [
  {
   "cell_type": "code",
   "id": "initial_id",
   "metadata": {
    "collapsed": true,
    "ExecuteTime": {
     "end_time": "2025-03-31T19:59:42.233663Z",
     "start_time": "2025-03-31T19:59:42.230518Z"
    }
   },
   "source": [
    "import psutil\n",
    "import time\n",
    "import csv\n",
    "import subprocess\n",
    "from datetime import datetime\n",
    "\n"
   ],
   "outputs": [],
   "execution_count": 2
  },
  {
   "metadata": {
    "ExecuteTime": {
     "end_time": "2025-03-31T19:59:44.092883Z",
     "start_time": "2025-03-31T19:59:44.090176Z"
    }
   },
   "cell_type": "code",
   "source": [
    "OUTPUT_FILE = \"system_metrics.csv\"\n",
    "DURATION = 60\n",
    "INTERVAL = 1"
   ],
   "id": "c70ca532b27b8898",
   "outputs": [],
   "execution_count": 3
  },
  {
   "metadata": {
    "ExecuteTime": {
     "end_time": "2025-03-31T19:59:45.337783Z",
     "start_time": "2025-03-31T19:59:45.334525Z"
    }
   },
   "cell_type": "code",
   "source": [
    "def collect_metrics(label):\n",
    "    with open(OUTPUT_FILE, 'a', newline='') as file:\n",
    "        writer = csv.writer(file)\n",
    "        for _ in range(int(DURATION / INTERVAL)):\n",
    "            timestamp = datetime.now().strftime('%Y-%m-%d %H:%M:%S')\n",
    "            cpu = psutil.cpu_percent()\n",
    "            memory = psutil.virtual_memory().percent\n",
    "            disk = psutil.disk_io_counters().read_bytes + psutil.disk_io_counters().write_bytes\n",
    "            net = psutil.net_io_counters().bytes_sent + psutil.net_io_counters().bytes_recv\n",
    "            writer.writerow([timestamp, cpu, memory, disk, net, label])\n",
    "            time.sleep(INTERVAL)\n"
   ],
   "id": "839da4a891d56f06",
   "outputs": [],
   "execution_count": 4
  },
  {
   "metadata": {
    "ExecuteTime": {
     "end_time": "2025-03-31T19:59:47.089115Z",
     "start_time": "2025-03-31T19:59:47.086042Z"
    }
   },
   "cell_type": "code",
   "source": [
    "def create_csv_if_not_exists():\n",
    "    try:\n",
    "        with open(OUTPUT_FILE, 'x', newline='') as file:\n",
    "            writer = csv.writer(file)\n",
    "            writer.writerow(['timestamp', 'cpu_percent', 'memory_percent', 'disk_io', 'network_io', 'label'])\n",
    "    except FileExistsError:\n",
    "        pass"
   ],
   "id": "f74a1f1adf220c82",
   "outputs": [],
   "execution_count": 5
  },
  {
   "metadata": {
    "ExecuteTime": {
     "end_time": "2025-03-31T19:59:48.489400Z",
     "start_time": "2025-03-31T19:59:48.486870Z"
    }
   },
   "cell_type": "code",
   "source": [
    "def inject_cpu_anomaly():\n",
    "    print(\"Injecting CPU anomaly...\")\n",
    "    return subprocess.Popen([\"stress-ng\", \"--cpu\", \"4\", \"--timeout\", str(DURATION)])"
   ],
   "id": "21764910ec689952",
   "outputs": [],
   "execution_count": 6
  },
  {
   "metadata": {
    "ExecuteTime": {
     "end_time": "2025-03-31T19:59:49.649033Z",
     "start_time": "2025-03-31T19:59:49.645778Z"
    }
   },
   "cell_type": "code",
   "source": [
    "def inject_memory_anomaly():\n",
    "    print(\"Injecting Memory anomaly...\")\n",
    "    return subprocess.Popen([\"stress-ng\", \"--vm\", \"2\", \"--vm-bytes\", \"80%\", \"--timeout\", str(DURATION)])"
   ],
   "id": "9acccf4fb2d10f72",
   "outputs": [],
   "execution_count": 7
  },
  {
   "metadata": {
    "ExecuteTime": {
     "end_time": "2025-03-31T19:59:50.737852Z",
     "start_time": "2025-03-31T19:59:50.735743Z"
    }
   },
   "cell_type": "code",
   "source": [
    "def inject_disk_anomaly():\n",
    "    print(\"Injecting Disk anomaly...\")\n",
    "    return subprocess.Popen([\"dd\", \"if=/dev/zero\", \"of=/tmp/disktest\", \"bs=1M\", \"count=10000\"])"
   ],
   "id": "3fb52b0558543627",
   "outputs": [],
   "execution_count": 8
  },
  {
   "metadata": {
    "ExecuteTime": {
     "end_time": "2025-03-31T19:59:51.857794Z",
     "start_time": "2025-03-31T19:59:51.854295Z"
    }
   },
   "cell_type": "code",
   "source": [
    "def inject_network_anomaly():\n",
    "    print(\"Injecting Network anomaly (simulated with ping flood)...\")\n",
    "    return subprocess.Popen([\"ping\", \"127.0.0.1\", \"-f\"])"
   ],
   "id": "4cbac7ca0fb890d0",
   "outputs": [],
   "execution_count": 9
  },
  {
   "metadata": {
    "ExecuteTime": {
     "end_time": "2025-03-31T20:03:46.973628Z",
     "start_time": "2025-03-31T20:01:45.974878Z"
    }
   },
   "cell_type": "code",
   "source": [
    "if __name__ == \"__main__\":\n",
    "    create_csv_if_not_exists()\n",
    "\n",
    "\n",
    "    print(\"Collecting NORMAL data...\")\n",
    "    collect_metrics(label=0)\n",
    "\n",
    "    print(\"\\nCollecting ANOMALOUS data with CPU + Memory overload...\")\n",
    "    cpu_proc = inject_cpu_anomaly()\n",
    "    mem_proc = inject_memory_anomaly()\n",
    "\n",
    "    collect_metrics(label=1)\n",
    "\n",
    "    cpu_proc.terminate()\n",
    "    mem_proc.terminate()\n",
    "    print(\"\\nData collection complete. CSV saved as:\", OUTPUT_FILE)"
   ],
   "id": "10304ab22377379a",
   "outputs": [
    {
     "name": "stdout",
     "output_type": "stream",
     "text": [
      "Collecting NORMAL data...\n",
      "\n",
      "Collecting ANOMALOUS data with CPU + Memory overload...\n",
      "Injecting CPU anomaly...\n",
      "Injecting Memory anomaly...\n",
      "stress-ng: info:  [34723] setting to a 1 min run per stressor\n",
      "stress-ng: info:  [34724] setting to a 1 min run per stressor\n",
      "stress-ng: info:  [34723] dispatching hogs: 4 cpu\n",
      "stress-ng: info:  [34724] dispatching hogs: 2 vm\n",
      "stress-ng: info:  [34723] note: system has only 133 MB of free memory and swap, recommend using --oom-avoid\n",
      "stress-ng: info:  [34724] note: system has only 133 MB of free memory and swap, recommend using --oom-avoid\n",
      "\n",
      "Data collection complete. CSV saved as:stress-ng: info:  [34723] skipped: 0\n",
      "stress-ng: info:  [34723] passed: 4: cpu (4)\n",
      "stress-ng: info:  [34723] failed: 0\n",
      "stress-ng: info:  [34723] metrics untrustworthy: 0\n",
      "stress-ng: info:  [34723] successful run completed in 59.87 secs\n",
      " system_metrics.csv\n"
     ]
    }
   ],
   "execution_count": 11
  }
 ],
 "metadata": {
  "kernelspec": {
   "display_name": "Python 3",
   "language": "python",
   "name": "python3"
  },
  "language_info": {
   "codemirror_mode": {
    "name": "ipython",
    "version": 2
   },
   "file_extension": ".py",
   "mimetype": "text/x-python",
   "name": "python",
   "nbconvert_exporter": "python",
   "pygments_lexer": "ipython2",
   "version": "2.7.6"
  }
 },
 "nbformat": 4,
 "nbformat_minor": 5
}
