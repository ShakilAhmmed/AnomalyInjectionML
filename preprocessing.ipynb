{
 "cells": [
  {
   "cell_type": "code",
   "id": "initial_id",
   "metadata": {
    "collapsed": true,
    "ExecuteTime": {
     "end_time": "2025-03-31T20:04:35.860592Z",
     "start_time": "2025-03-31T20:04:32.739765Z"
    }
   },
   "source": [
    "import pandas as pd\n",
    "from sklearn.model_selection import train_test_split\n",
    "from sklearn.preprocessing import StandardScaler"
   ],
   "outputs": [],
   "execution_count": 1
  },
  {
   "metadata": {
    "ExecuteTime": {
     "end_time": "2025-03-31T20:05:01.648960Z",
     "start_time": "2025-03-31T20:05:01.641966Z"
    }
   },
   "cell_type": "code",
   "source": [
    "df = pd.read_csv('system_metrics.csv')\n",
    "df.head()"
   ],
   "id": "8767e0c917175c40",
   "outputs": [
    {
     "data": {
      "text/plain": [
       "             timestamp  cpu_percent  memory_percent       disk_io  \\\n",
       "0  2025-03-31 21:59:52         15.4            75.5  402440085504   \n",
       "1  2025-03-31 21:59:53         12.0            75.5  402440650752   \n",
       "2  2025-03-31 21:59:54         15.0            75.6  402442027008   \n",
       "3  2025-03-31 21:59:55         10.9            75.5  402443345920   \n",
       "4  2025-03-31 21:59:56         11.9            75.6  402451873792   \n",
       "\n",
       "    network_io  label  \n",
       "0  13393374447      0  \n",
       "1  13395615807      0  \n",
       "2  13397859512      0  \n",
       "3  13400632388      0  \n",
       "4  13404028185      0  "
      ],
      "text/html": [
       "<div>\n",
       "<style scoped>\n",
       "    .dataframe tbody tr th:only-of-type {\n",
       "        vertical-align: middle;\n",
       "    }\n",
       "\n",
       "    .dataframe tbody tr th {\n",
       "        vertical-align: top;\n",
       "    }\n",
       "\n",
       "    .dataframe thead th {\n",
       "        text-align: right;\n",
       "    }\n",
       "</style>\n",
       "<table border=\"1\" class=\"dataframe\">\n",
       "  <thead>\n",
       "    <tr style=\"text-align: right;\">\n",
       "      <th></th>\n",
       "      <th>timestamp</th>\n",
       "      <th>cpu_percent</th>\n",
       "      <th>memory_percent</th>\n",
       "      <th>disk_io</th>\n",
       "      <th>network_io</th>\n",
       "      <th>label</th>\n",
       "    </tr>\n",
       "  </thead>\n",
       "  <tbody>\n",
       "    <tr>\n",
       "      <th>0</th>\n",
       "      <td>2025-03-31 21:59:52</td>\n",
       "      <td>15.4</td>\n",
       "      <td>75.5</td>\n",
       "      <td>402440085504</td>\n",
       "      <td>13393374447</td>\n",
       "      <td>0</td>\n",
       "    </tr>\n",
       "    <tr>\n",
       "      <th>1</th>\n",
       "      <td>2025-03-31 21:59:53</td>\n",
       "      <td>12.0</td>\n",
       "      <td>75.5</td>\n",
       "      <td>402440650752</td>\n",
       "      <td>13395615807</td>\n",
       "      <td>0</td>\n",
       "    </tr>\n",
       "    <tr>\n",
       "      <th>2</th>\n",
       "      <td>2025-03-31 21:59:54</td>\n",
       "      <td>15.0</td>\n",
       "      <td>75.6</td>\n",
       "      <td>402442027008</td>\n",
       "      <td>13397859512</td>\n",
       "      <td>0</td>\n",
       "    </tr>\n",
       "    <tr>\n",
       "      <th>3</th>\n",
       "      <td>2025-03-31 21:59:55</td>\n",
       "      <td>10.9</td>\n",
       "      <td>75.5</td>\n",
       "      <td>402443345920</td>\n",
       "      <td>13400632388</td>\n",
       "      <td>0</td>\n",
       "    </tr>\n",
       "    <tr>\n",
       "      <th>4</th>\n",
       "      <td>2025-03-31 21:59:56</td>\n",
       "      <td>11.9</td>\n",
       "      <td>75.6</td>\n",
       "      <td>402451873792</td>\n",
       "      <td>13404028185</td>\n",
       "      <td>0</td>\n",
       "    </tr>\n",
       "  </tbody>\n",
       "</table>\n",
       "</div>"
      ]
     },
     "execution_count": 9,
     "metadata": {},
     "output_type": "execute_result"
    }
   ],
   "execution_count": 9
  },
  {
   "metadata": {
    "ExecuteTime": {
     "end_time": "2025-03-31T20:05:09.888219Z",
     "start_time": "2025-03-31T20:05:09.881412Z"
    }
   },
   "cell_type": "code",
   "source": [
    "df.drop(columns=['timestamp'], inplace=True)\n",
    "df.head()"
   ],
   "id": "efa73baf879f8121",
   "outputs": [
    {
     "data": {
      "text/plain": [
       "   cpu_percent  memory_percent       disk_io   network_io  label\n",
       "0         15.4            75.5  402440085504  13393374447      0\n",
       "1         12.0            75.5  402440650752  13395615807      0\n",
       "2         15.0            75.6  402442027008  13397859512      0\n",
       "3         10.9            75.5  402443345920  13400632388      0\n",
       "4         11.9            75.6  402451873792  13404028185      0"
      ],
      "text/html": [
       "<div>\n",
       "<style scoped>\n",
       "    .dataframe tbody tr th:only-of-type {\n",
       "        vertical-align: middle;\n",
       "    }\n",
       "\n",
       "    .dataframe tbody tr th {\n",
       "        vertical-align: top;\n",
       "    }\n",
       "\n",
       "    .dataframe thead th {\n",
       "        text-align: right;\n",
       "    }\n",
       "</style>\n",
       "<table border=\"1\" class=\"dataframe\">\n",
       "  <thead>\n",
       "    <tr style=\"text-align: right;\">\n",
       "      <th></th>\n",
       "      <th>cpu_percent</th>\n",
       "      <th>memory_percent</th>\n",
       "      <th>disk_io</th>\n",
       "      <th>network_io</th>\n",
       "      <th>label</th>\n",
       "    </tr>\n",
       "  </thead>\n",
       "  <tbody>\n",
       "    <tr>\n",
       "      <th>0</th>\n",
       "      <td>15.4</td>\n",
       "      <td>75.5</td>\n",
       "      <td>402440085504</td>\n",
       "      <td>13393374447</td>\n",
       "      <td>0</td>\n",
       "    </tr>\n",
       "    <tr>\n",
       "      <th>1</th>\n",
       "      <td>12.0</td>\n",
       "      <td>75.5</td>\n",
       "      <td>402440650752</td>\n",
       "      <td>13395615807</td>\n",
       "      <td>0</td>\n",
       "    </tr>\n",
       "    <tr>\n",
       "      <th>2</th>\n",
       "      <td>15.0</td>\n",
       "      <td>75.6</td>\n",
       "      <td>402442027008</td>\n",
       "      <td>13397859512</td>\n",
       "      <td>0</td>\n",
       "    </tr>\n",
       "    <tr>\n",
       "      <th>3</th>\n",
       "      <td>10.9</td>\n",
       "      <td>75.5</td>\n",
       "      <td>402443345920</td>\n",
       "      <td>13400632388</td>\n",
       "      <td>0</td>\n",
       "    </tr>\n",
       "    <tr>\n",
       "      <th>4</th>\n",
       "      <td>11.9</td>\n",
       "      <td>75.6</td>\n",
       "      <td>402451873792</td>\n",
       "      <td>13404028185</td>\n",
       "      <td>0</td>\n",
       "    </tr>\n",
       "  </tbody>\n",
       "</table>\n",
       "</div>"
      ]
     },
     "execution_count": 10,
     "metadata": {},
     "output_type": "execute_result"
    }
   ],
   "execution_count": 10
  },
  {
   "metadata": {
    "ExecuteTime": {
     "end_time": "2025-03-31T20:04:42.581966Z",
     "start_time": "2025-03-31T20:04:42.577906Z"
    }
   },
   "cell_type": "code",
   "source": [
    "X = df.drop('label', axis=1)\n",
    "y = df['label']"
   ],
   "id": "637bca71b8c2fe71",
   "outputs": [],
   "execution_count": 5
  },
  {
   "metadata": {
    "ExecuteTime": {
     "end_time": "2025-03-31T20:05:17.072001Z",
     "start_time": "2025-03-31T20:05:17.065629Z"
    }
   },
   "cell_type": "code",
   "source": [
    "scaler = StandardScaler()\n",
    "X_scaled = scaler.fit_transform(X)"
   ],
   "id": "c4dad0ce8c4166e7",
   "outputs": [],
   "execution_count": 11
  },
  {
   "metadata": {
    "ExecuteTime": {
     "end_time": "2025-03-31T20:05:18.833753Z",
     "start_time": "2025-03-31T20:05:18.828182Z"
    }
   },
   "cell_type": "code",
   "source": [
    "X_train, X_test, y_train, y_test = train_test_split(X_scaled, y, test_size=0.3, random_state=42)\n",
    "\n",
    "print(\"Preprocessing complete.\")"
   ],
   "id": "ffad979e0857b4a9",
   "outputs": [
    {
     "name": "stdout",
     "output_type": "stream",
     "text": [
      "Preprocessing complete.\n"
     ]
    }
   ],
   "execution_count": 12
  }
 ],
 "metadata": {
  "kernelspec": {
   "display_name": "Python 3",
   "language": "python",
   "name": "python3"
  },
  "language_info": {
   "codemirror_mode": {
    "name": "ipython",
    "version": 2
   },
   "file_extension": ".py",
   "mimetype": "text/x-python",
   "name": "python",
   "nbconvert_exporter": "python",
   "pygments_lexer": "ipython2",
   "version": "2.7.6"
  }
 },
 "nbformat": 4,
 "nbformat_minor": 5
}
